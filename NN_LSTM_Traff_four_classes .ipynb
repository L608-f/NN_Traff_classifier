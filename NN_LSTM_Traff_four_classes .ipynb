{
 "cells": [
  {
   "cell_type": "code",
   "execution_count": 1,
   "id": "41c34efb",
   "metadata": {},
   "outputs": [],
   "source": [
    "import tensorflow \n",
    "from tensorflow import keras\n",
    "from tensorflow.keras import layers\n",
    "from tensorflow.keras.layers import Dense, Dropout, LSTM\n",
    "from tensorflow.keras.models import Sequential\n",
    "\n",
    "import numpy as np\n",
    "import pandas as pd \n",
    "import matplotlib.pyplot as plt"
   ]
  },
  {
   "cell_type": "code",
   "execution_count": 2,
   "id": "0aeb3100",
   "metadata": {},
   "outputs": [],
   "source": [
    "data = pd.read_csv('Traff_4.csv')"
   ]
  },
  {
   "cell_type": "code",
   "execution_count": 3,
   "id": "c791014c",
   "metadata": {},
   "outputs": [
    {
     "data": {
      "text/plain": [
       "0         0\n",
       "1         0\n",
       "2         0\n",
       "3         0\n",
       "4         0\n",
       "         ..\n",
       "493771    3\n",
       "493772    3\n",
       "493773    3\n",
       "493774    3\n",
       "493775    3\n",
       "Name: Label, Length: 493776, dtype: int64"
      ]
     },
     "execution_count": 3,
     "metadata": {},
     "output_type": "execute_result"
    }
   ],
   "source": [
    "data['Label']"
   ]
  },
  {
   "cell_type": "code",
   "execution_count": 4,
   "id": "652aae3f",
   "metadata": {},
   "outputs": [],
   "source": [
    "looking_back = 20 \n",
    "\n",
    "target = np.array(data['Label'])\n",
    "data = data.drop('Label', axis = 1)\n",
    "data = np.array(data)"
   ]
  },
  {
   "cell_type": "code",
   "execution_count": 5,
   "id": "8b7320b2",
   "metadata": {},
   "outputs": [
    {
     "data": {
      "text/plain": [
       "array([0, 0, 0, ..., 3, 3, 3], dtype=int64)"
      ]
     },
     "execution_count": 5,
     "metadata": {},
     "output_type": "execute_result"
    }
   ],
   "source": [
    "target"
   ]
  },
  {
   "cell_type": "code",
   "execution_count": 6,
   "id": "c167f41c",
   "metadata": {},
   "outputs": [
    {
     "data": {
      "text/plain": [
       "(493756, 20, 1)"
      ]
     },
     "execution_count": 6,
     "metadata": {},
     "output_type": "execute_result"
    }
   ],
   "source": [
    "x = []\n",
    "y = [] \n",
    "\n",
    "for i in range(looking_back, len(data)): \n",
    "    x.append(data[i - looking_back:i, 0])\n",
    "    y.append(target[i])\n",
    "    \n",
    "x, y = np.array(x), np.array(y)\n",
    "y_target = keras.utils.to_categorical(y, 4)\n",
    "x = np.reshape(x, (x.shape[0], x.shape[1], 1))\n",
    "\n",
    "x.shape"
   ]
  },
  {
   "cell_type": "code",
   "execution_count": 7,
   "id": "6769dcbb",
   "metadata": {},
   "outputs": [],
   "source": [
    "model = Sequential()\n",
    "\n",
    "model.add(LSTM(units = 60, return_sequences = True, input_shape = (x.shape[1], 1)))\n",
    "model.add(Dropout(0.2))\n",
    "model.add(LSTM(units = 60, return_sequences = True))\n",
    "model.add(Dropout(0.2))\n",
    "model.add(LSTM(units = 60))\n",
    "model.add(Dropout(0.2))\n",
    "model.add(Dense(units = 32))\n",
    "model.add(Dense(units = 4, activation = 'softmax'))\n",
    "\n",
    "# may be add more Dense layers"
   ]
  },
  {
   "cell_type": "code",
   "execution_count": 8,
   "id": "5e5ad86a",
   "metadata": {},
   "outputs": [
    {
     "name": "stdout",
     "output_type": "stream",
     "text": [
      "Model: \"sequential\"\n",
      "_________________________________________________________________\n",
      " Layer (type)                Output Shape              Param #   \n",
      "=================================================================\n",
      " lstm (LSTM)                 (None, 20, 60)            14880     \n",
      "                                                                 \n",
      " dropout (Dropout)           (None, 20, 60)            0         \n",
      "                                                                 \n",
      " lstm_1 (LSTM)               (None, 20, 60)            29040     \n",
      "                                                                 \n",
      " dropout_1 (Dropout)         (None, 20, 60)            0         \n",
      "                                                                 \n",
      " lstm_2 (LSTM)               (None, 60)                29040     \n",
      "                                                                 \n",
      " dropout_2 (Dropout)         (None, 60)                0         \n",
      "                                                                 \n",
      " dense (Dense)               (None, 32)                1952      \n",
      "                                                                 \n",
      " dense_1 (Dense)             (None, 4)                 132       \n",
      "                                                                 \n",
      "=================================================================\n",
      "Total params: 75,044\n",
      "Trainable params: 75,044\n",
      "Non-trainable params: 0\n",
      "_________________________________________________________________\n"
     ]
    }
   ],
   "source": [
    "model.summary()"
   ]
  },
  {
   "cell_type": "code",
   "execution_count": 9,
   "id": "5c82537e",
   "metadata": {},
   "outputs": [],
   "source": [
    "model.compile(optimizer = 'adam', loss = 'categorical_crossentropy', metrics = ['accuracy'])"
   ]
  },
  {
   "cell_type": "code",
   "execution_count": 10,
   "id": "509fbfe7",
   "metadata": {},
   "outputs": [
    {
     "name": "stdout",
     "output_type": "stream",
     "text": [
      "Epoch 1/10\n",
      "15430/15430 [==============================] - 406s 26ms/step - loss: 0.0567 - accuracy: 0.9839\n",
      "Epoch 2/10\n",
      "15430/15430 [==============================] - 463s 30ms/step - loss: 0.0142 - accuracy: 0.9956\n",
      "Epoch 3/10\n",
      "15430/15430 [==============================] - 460s 30ms/step - loss: 0.0129 - accuracy: 0.9960\n",
      "Epoch 4/10\n",
      "15430/15430 [==============================] - 552s 36ms/step - loss: 0.0081 - accuracy: 0.9974\n",
      "Epoch 5/10\n",
      "15430/15430 [==============================] - 522s 34ms/step - loss: 0.0064 - accuracy: 0.9980\n",
      "Epoch 6/10\n",
      "15430/15430 [==============================] - 556s 36ms/step - loss: 0.0059 - accuracy: 0.9982\n",
      "Epoch 7/10\n",
      "15430/15430 [==============================] - 638s 41ms/step - loss: 0.0052 - accuracy: 0.9984\n",
      "Epoch 8/10\n",
      "15430/15430 [==============================] - 675s 44ms/step - loss: 0.0045 - accuracy: 0.9986\n",
      "Epoch 9/10\n",
      "15430/15430 [==============================] - 723s 47ms/step - loss: 0.0042 - accuracy: 0.9987\n",
      "Epoch 10/10\n",
      "15430/15430 [==============================] - 831s 54ms/step - loss: 0.0038 - accuracy: 0.9988\n"
     ]
    }
   ],
   "source": [
    "history = model.fit(x, y_target, epochs = 10, batch_size = 32)"
   ]
  },
  {
   "cell_type": "code",
   "execution_count": 11,
   "id": "80a3b2b7",
   "metadata": {},
   "outputs": [
    {
     "name": "stdout",
     "output_type": "stream",
     "text": [
      "15430/15430 [==============================] - 241s 16ms/step - loss: 0.0011 - accuracy: 0.9997\n"
     ]
    },
    {
     "data": {
      "text/plain": [
       "[0.0010732646333053708, 0.9996779561042786]"
      ]
     },
     "execution_count": 11,
     "metadata": {},
     "output_type": "execute_result"
    }
   ],
   "source": [
    "model.evaluate(x, y_target)"
   ]
  },
  {
   "cell_type": "code",
   "execution_count": 15,
   "id": "597c31a8",
   "metadata": {},
   "outputs": [
    {
     "data": {
      "image/png": "[encoded data removed]",
      "text/plain": [
       "<Figure size 640x480 with 1 Axes>"
      ]
     },
     "metadata": {},
     "output_type": "display_data"
    }
   ],
   "source": [
    "plt.plot(history.history['accuracy'], label = 'accuracy')\n",
    "plt.xlabel('Epoch')\n",
    "plt.ylabel('Accuracy')\n",
    "plt.legend()\n",
    "plt.show()"
   ]
  },
  {
   "cell_type": "code",
   "execution_count": 16,
   "id": "abc12aa0",
   "metadata": {},
   "outputs": [
    {
     "data": {
      "image/png": "[encoded data removed]",
      "text/plain": [
       "<Figure size 640x480 with 1 Axes>"
      ]
     },
     "metadata": {},
     "output_type": "display_data"
    }
   ],
   "source": [
    "plt.plot(history.history['loss'], label = 'loss')\n",
    "plt.xlabel('Epoch')\n",
    "plt.ylabel('Loss')\n",
    "plt.legend()\n",
    "plt.show()"
   ]
  },
  {
   "cell_type": "code",
   "execution_count": 14,
   "id": "75584c84",
   "metadata": {},
   "outputs": [],
   "source": [
    "model.save('LSTM_Traff_four_classes.h5')"
   ]
  },
  {
   "cell_type": "markdown",
   "id": "d51ef1a3",
   "metadata": {},
   "source": [
    "ТЕСТИРОВАНИЕ МОДЕЛИ"
   ]
  },
  {
   "cell_type": "code",
   "execution_count": 45,
   "id": "af06f0d7",
   "metadata": {},
   "outputs": [],
   "source": [
    "from keras.models import load_model\n",
    "model = load_model('LSTM_Traff_four_classes.h5')"
   ]
  },
  {
   "cell_type": "code",
   "execution_count": 46,
   "id": "67fa85a8",
   "metadata": {},
   "outputs": [],
   "source": [
    "data = pd.read_csv('Tested_Traff_4.csv')"
   ]
  },
  {
   "cell_type": "code",
   "execution_count": 47,
   "id": "0ac60507",
   "metadata": {},
   "outputs": [
    {
     "data": {
      "text/plain": [
       "array([2, 2, 2, ..., 3, 3, 3], dtype=int64)"
      ]
     },
     "execution_count": 47,
     "metadata": {},
     "output_type": "execute_result"
    }
   ],
   "source": [
    "looking_back = 20 \n",
    "\n",
    "target = np.array(data['Label'])\n",
    "data = data.drop('Label', axis = 1)\n",
    "data = np.array(data)\n",
    "\n",
    "target"
   ]
  },
  {
   "cell_type": "code",
   "execution_count": 48,
   "id": "165acf91",
   "metadata": {},
   "outputs": [
    {
     "data": {
      "text/plain": [
       "(5981, 20, 1)"
      ]
     },
     "execution_count": 48,
     "metadata": {},
     "output_type": "execute_result"
    }
   ],
   "source": [
    "x = []\n",
    "y = [] \n",
    "\n",
    "for i in range(looking_back, len(data)): \n",
    "    x.append(data[i - looking_back:i, 0])\n",
    "    y.append(target[i])\n",
    "    \n",
    "x, y = np.array(x), np.array(y)\n",
    "y_target = keras.utils.to_categorical(y, 4)\n",
    "x = np.reshape(x, (x.shape[0], x.shape[1], 1))\n",
    "\n",
    "x.shape"
   ]
  },
  {
   "cell_type": "code",
   "execution_count": 49,
   "id": "5d77cc64",
   "metadata": {},
   "outputs": [
    {
     "name": "stdout",
     "output_type": "stream",
     "text": [
      "187/187 [==============================] - 4s 15ms/step - loss: 0.0378 - accuracy: 0.9943\n"
     ]
    },
    {
     "data": {
      "text/plain": [
       "[0.03775990381836891, 0.9943153262138367]"
      ]
     },
     "execution_count": 49,
     "metadata": {},
     "output_type": "execute_result"
    }
   ],
   "source": [
    "model.evaluate(x, y_target)"
   ]
  },
  {
   "cell_type": "code",
   "execution_count": 52,
   "id": "3109132a",
   "metadata": {},
   "outputs": [
    {
     "data": {
      "text/plain": [
       "[<tf.Variable 'lstm/lstm_cell_6/kernel:0' shape=(1, 240) dtype=float32, numpy=\n",
       " array([[ 0.3265059 , -0.21859112,  0.34765133,  0.38582608,  0.2990908 ,\n",
       "         -0.10281592, -0.10538904,  0.38100877,  0.36802772, -0.19202334,\n",
       "         -0.06954604, -0.21168868,  0.3701569 , -0.21575867,  0.31961805,\n",
       "          0.21485256, -0.05967889,  0.33688176, -0.2004787 ,  0.1810262 ,\n",
       "          0.32967874,  0.37115163,  0.39020684, -0.10327464,  0.3429658 ,\n",
       "          0.33216658,  0.38835102,  0.38781717,  0.39172563,  0.3378572 ,\n",
       "          0.16322522,  0.36281505,  0.16027819, -0.18412204,  0.35032514,\n",
       "          0.36083636, -0.18975513,  0.3903979 ,  0.04844971, -0.183046  ,\n",
       "         -0.05482124,  0.39572832,  0.31739405,  0.30754557,  0.30767292,\n",
       "          0.3521423 , -0.20188333,  0.28030315,  0.3204825 ,  0.34665903,\n",
       "         -0.20637962,  0.27572554, -0.06629972, -0.20114598,  0.3602677 ,\n",
       "         -0.1662586 ,  0.37775677, -0.17324927, -0.25235692,  0.3970227 ,\n",
       "          0.28850815,  0.10905584,  0.22422692, -0.31524584,  0.24500544,\n",
       "          0.13099208,  0.28372154,  0.25404015,  0.02686812, -0.11143222,\n",
       "         -0.0805349 ,  0.24424015, -0.33808267,  0.30721855,  0.14033051,\n",
       "          0.23116867,  0.19943458,  0.26470658,  0.38945445, -0.29337844,\n",
       "          0.19994096, -0.36207163,  0.26341635,  0.4244613 ,  0.31622067,\n",
       "          0.08998304,  0.26390088, -0.180514  ,  0.03664777,  0.28312382,\n",
       "         -0.35275728, -0.2771576 , -0.32988656,  0.3979849 ,  0.30716857,\n",
       "          0.09909301,  0.37750763, -0.3200914 , -0.08711357, -0.18504505,\n",
       "          0.35500666,  0.17294593,  0.28736195,  0.21401708,  0.2430063 ,\n",
       "          0.30141288,  0.28681028,  0.01787165,  0.28552124, -0.18685023,\n",
       "          0.28504047,  0.23531671, -0.22841217,  0.26093444, -0.33084184,\n",
       "         -0.23333932, -0.34297335,  0.2655946 ,  0.26818782,  0.28048632,\n",
       "          0.18824856,  0.18425886, -0.18624197,  0.19438928,  0.17452787,\n",
       "          0.194038  , -0.1862488 ,  0.18955243,  0.1885092 , -0.04111482,\n",
       "         -0.19682412, -0.1873878 ,  0.18948676, -0.20522377, -0.18967587,\n",
       "          0.14712633,  0.18774512,  0.19017898,  0.18817234, -0.11714134,\n",
       "         -0.1362333 , -0.1815263 ,  0.18309735, -0.23169327,  0.18922962,\n",
       "          0.1856542 , -0.18727712, -0.18527055, -0.18315934, -0.18757452,\n",
       "         -0.19406354,  0.09636272, -0.17537987,  0.37416175, -0.18819392,\n",
       "         -0.19471954,  0.18637925,  0.18591325, -0.04994486,  0.2010495 ,\n",
       "         -0.18661602,  0.18784389, -0.18417531,  0.17830221,  0.18727951,\n",
       "         -0.19430777,  0.19557141,  0.16299488, -0.19008541, -0.18711263,\n",
       "          0.17526495, -0.16676448, -0.06125525, -0.20919044, -0.18780233,\n",
       "          0.18817139, -0.18663721,  0.18671241,  0.18438572, -0.18618856,\n",
       "         -0.13239534, -0.01586588, -0.04146561,  0.18508613, -0.09081466,\n",
       "          0.38154408,  0.33697936,  0.40375382, -0.19270295, -0.24049604,\n",
       "          0.29934296,  0.30429688,  0.39770323,  0.39595732, -0.10199922,\n",
       "         -0.06344557,  0.3693684 , -0.22006866,  0.3560832 ,  0.11225371,\n",
       "         -0.05738439,  0.39201093,  0.37496674,  0.38714188, -0.19695751,\n",
       "         -0.06245619,  0.40313035, -0.11975268, -0.00783283, -0.1666795 ,\n",
       "          0.16231537,  0.09536619,  0.14325128,  0.29435712, -0.20198305,\n",
       "          0.20055138,  0.3320845 ,  0.40309337,  0.19504505,  0.3704888 ,\n",
       "          0.36291644,  0.0798038 , -0.10050572, -0.17470512, -0.06386731,\n",
       "         -0.21310256,  0.39489377, -0.18258178, -0.21678777, -0.1439124 ,\n",
       "          0.35020086, -0.11808193,  0.15152812,  0.31197363,  0.39060947,\n",
       "          0.3973216 , -0.03575613,  0.3543246 ,  0.41822112,  0.40512535]],\n",
       "       dtype=float32)>,\n",
       " <tf.Variable 'lstm/lstm_cell_6/recurrent_kernel:0' shape=(60, 240) dtype=float32, numpy=\n",
       " array([[ 0.0714727 ,  0.8391927 ,  0.09350766, ...,  0.02049266,\n",
       "         -0.00397756,  0.01700427],\n",
       "        [-0.00981374, -0.51776814,  0.01699587, ...,  0.10169291,\n",
       "          0.04005926, -0.01945077],\n",
       "        [-0.06279683, -0.5179643 , -0.1269018 , ..., -0.16454996,\n",
       "          0.09535398, -0.10563001],\n",
       "        ...,\n",
       "        [ 0.01077441,  0.3267291 ,  0.03113406, ...,  0.04662075,\n",
       "         -0.06604825,  0.02400381],\n",
       "        [-0.02729343,  0.86984074, -0.09610886, ..., -0.06291891,\n",
       "         -0.07584091, -0.05230024],\n",
       "        [-0.16785297, -0.2946414 , -0.1145907 , ..., -0.21090801,\n",
       "         -0.02175936, -0.01979858]], dtype=float32)>,\n",
       " <tf.Variable 'lstm/lstm_cell_6/bias:0' shape=(240,) dtype=float32, numpy=\n",
       " array([ 1.83028921e-01,  3.02093446e-01,  2.13797718e-01,  1.11146182e-01,\n",
       "         1.00290403e-01,  8.39540958e-01,  8.28915000e-01,  4.38897908e-01,\n",
       "         1.36667252e-01, -6.56160899e-03,  6.17099524e-01,  6.65716410e-01,\n",
       "         7.09001482e-01,  6.75606370e-01,  1.31586239e-01,  2.58020580e-01,\n",
       "         9.66367900e-01,  1.54840976e-01,  6.47991002e-01,  1.85373008e-01,\n",
       "         1.39274886e-02,  8.60167682e-01,  2.49213129e-01,  8.39244723e-01,\n",
       "         1.51762199e-02,  2.15378180e-01,  3.54566067e-01,  5.36911562e-02,\n",
       "         6.44275844e-02,  8.95155445e-02, -7.80509770e-01,  1.69207603e-01,\n",
       "        -7.98879802e-01,  6.14568174e-01,  1.65087786e-02,  9.58419323e-01,\n",
       "         6.25950336e-01,  2.38997266e-01, -2.13023394e-01,  1.12328267e+00,\n",
       "         9.95540798e-01,  1.03645660e-01,  1.20883554e-01,  3.42929125e-01,\n",
       "         3.64480138e-01,  5.61761111e-02,  6.75580144e-01,  2.49508113e-01,\n",
       "         3.31351817e-01,  2.27112070e-01,  3.27423960e-01,  4.64207053e-01,\n",
       "        -9.84415472e-01,  5.72110057e-01,  8.82241189e-01,  1.05445063e+00,\n",
       "         2.15724438e-01,  6.47908509e-01,  6.27625942e-01,  7.31015131e-02,\n",
       "         1.09069252e+00,  1.29210699e+00,  1.11394763e+00,  5.94574511e-01,\n",
       "         1.01211047e+00,  1.06329238e+00,  1.24403298e+00,  1.11946428e+00,\n",
       "         2.04955125e+00,  9.99949872e-01,  5.49703658e-01,  1.21530199e+00,\n",
       "         8.42531562e-01,  1.19090509e+00,  1.52985144e+00,  1.09406388e+00,\n",
       "         1.23733783e+00,  1.22255194e+00,  1.02663875e+00,  6.86965466e-01,\n",
       "         1.12616062e+00,  8.86934817e-01,  1.07223511e+00,  1.04390347e+00,\n",
       "         1.01112521e+00,  1.63314259e+00,  1.10218155e+00,  1.96017182e+00,\n",
       "         9.51865256e-01,  1.13447869e+00,  6.91706061e-01,  5.07156312e-01,\n",
       "         6.61165535e-01,  1.06008124e+00,  1.02084720e+00,  1.68554664e+00,\n",
       "         1.05763829e+00,  1.00338197e+00,  5.01807094e-01,  1.64038587e+00,\n",
       "         1.09378922e+00,  1.16003656e+00,  1.06045139e+00,  1.35813844e+00,\n",
       "         1.08869326e+00,  1.11419928e+00,  1.24869609e+00,  1.54570019e+00,\n",
       "         1.11001587e+00,  1.95827973e+00,  1.17246521e+00,  1.05286133e+00,\n",
       "         1.66938210e+00,  1.24305224e+00,  9.46396828e-01,  1.66260946e+00,\n",
       "         7.37775922e-01,  1.28255010e+00,  1.29241312e+00,  1.08995271e+00,\n",
       "         3.22460942e-03,  1.17829911e-01, -1.31237209e-01,  3.34390588e-02,\n",
       "         1.88048240e-02,  2.06368305e-02, -9.00301188e-02,  4.54690214e-03,\n",
       "         9.46357660e-03,  4.13956703e-04,  4.40809131e-01, -3.61799076e-02,\n",
       "         1.02857560e-01, -2.26046946e-02, -2.96772225e-03,  7.61986664e-03,\n",
       "         4.42307815e-02,  2.43041315e-03,  2.53064325e-03, -2.70008147e-01,\n",
       "        -2.12913424e-01, -4.24820334e-01,  2.24562392e-01,  7.22736306e-03,\n",
       "         2.43278705e-02,  3.75782475e-02, -1.36265457e-01, -1.16601974e-01,\n",
       "        -2.29655311e-01, -2.92482357e-02, -2.13712882e-02, -1.97976738e-01,\n",
       "        -6.54116213e-01, -1.00954011e-01, -2.33292077e-02,  2.50107031e-02,\n",
       "         8.98371786e-02,  1.07109174e-01,  6.17715530e-02,  9.87570640e-03,\n",
       "        -1.23055480e-01,  9.14367288e-02, -4.38412540e-02,  1.21227220e-01,\n",
       "         4.08681072e-02, -4.13162448e-03,  2.81424299e-02,  1.31284714e-01,\n",
       "        -1.69207097e-03, -4.98675592e-02,  8.37033018e-02, -9.24233794e-02,\n",
       "        -5.84765911e-01, -1.93391345e-03, -4.24580276e-02,  2.61903834e-03,\n",
       "        -7.13494420e-02,  6.79660216e-02,  5.59551865e-02, -9.14518535e-02,\n",
       "         9.17755961e-01, -4.15135980e-01,  1.59518027e+00, -9.48571265e-01,\n",
       "         1.11507583e+00,  2.74534732e-01,  1.61097005e-01, -2.13671494e-02,\n",
       "         1.16999972e+00, -6.59610517e-03,  2.44810879e-01,  3.95548522e-01,\n",
       "         8.63682926e-02,  8.89406353e-02,  1.47822678e+00,  1.38982427e+00,\n",
       "         2.43042305e-01,  1.13036382e+00,  1.63343951e-01, -9.92141485e-01,\n",
       "         1.56074393e+00,  8.17806199e-02,  9.01011527e-01,  9.55620408e-02,\n",
       "         1.09479189e+00,  1.76795161e+00,  2.24350661e-01,  1.05994308e+00,\n",
       "         9.79492724e-01,  1.08719862e+00, -8.85342062e-01, -7.66549945e-01,\n",
       "        -1.05973327e+00,  3.05798531e-01,  1.07764733e+00, -4.82162893e-01,\n",
       "         1.68428198e-01,  1.07911691e-01, -1.05657852e+00,  1.64441511e-01,\n",
       "         1.53581634e-01, -1.31834909e-01,  9.66684163e-01,  9.89810407e-01,\n",
       "         1.30227137e+00,  1.13395512e+00,  9.29532722e-02,  4.61650640e-01,\n",
       "         1.03329909e+00,  1.05698478e+00,  1.22337088e-01,  1.21117342e+00,\n",
       "        -8.30676496e-01,  2.06854001e-01,  9.28316042e-02,  9.49393734e-02,\n",
       "         1.41292119e+00,  1.53998300e-01,  1.46648902e-02,  1.69580728e-01],\n",
       "       dtype=float32)>,\n",
       " <tf.Variable 'lstm_1/lstm_cell_7/kernel:0' shape=(60, 240) dtype=float32, numpy=\n",
       " array([[ 0.03423175, -0.07827908,  1.3091594 , ..., -0.162071  ,\n",
       "          0.97627175,  0.7193372 ],\n",
       "        [ 0.53138316,  0.3583962 , -0.20288716, ...,  0.58435786,\n",
       "         -0.27665004, -0.22415507],\n",
       "        [-0.20953888, -0.18341158, -0.5342712 , ..., -0.17847607,\n",
       "         -0.8827941 , -0.25737712],\n",
       "        ...,\n",
       "        [ 0.46267995,  0.02525631,  0.43148327, ...,  0.2697216 ,\n",
       "         -0.4075596 ,  0.4039765 ],\n",
       "        [ 0.28818938,  0.1832353 ,  0.48080358, ..., -0.2974958 ,\n",
       "         -0.33214614,  0.73923296],\n",
       "        [-0.23622756,  0.42071173,  0.05689627, ..., -0.15353899,\n",
       "          0.11634232,  0.23768985]], dtype=float32)>,\n",
       " <tf.Variable 'lstm_1/lstm_cell_7/recurrent_kernel:0' shape=(60, 240) dtype=float32, numpy=\n",
       " array([[-0.54796666,  1.6463201 ,  0.21918564, ...,  0.48632267,\n",
       "         -0.41879988,  0.2504427 ],\n",
       "        [-0.023096  ,  0.4017321 , -0.48802555, ..., -0.6815001 ,\n",
       "          0.6297202 ,  0.17410791],\n",
       "        [ 0.66120815,  0.61290836, -0.10553852, ..., -0.09304568,\n",
       "         -0.57039356,  0.30437544],\n",
       "        ...,\n",
       "        [-0.16745363, -0.44475967,  0.098959  , ..., -0.28452507,\n",
       "         -0.04874048,  0.46485758],\n",
       "        [ 0.8614156 ,  1.0947986 ,  0.44486195, ..., -0.1415874 ,\n",
       "          0.39166597, -0.0898634 ],\n",
       "        [-0.30089462, -0.00892022, -0.43531966, ...,  0.3769846 ,\n",
       "          0.1974983 ,  0.48802626]], dtype=float32)>,\n",
       " <tf.Variable 'lstm_1/lstm_cell_7/bias:0' shape=(240,) dtype=float32, numpy=\n",
       " array([ 0.49777633, -0.37357387, -0.37765977,  0.1659225 ,  0.01462669,\n",
       "        -0.25704232, -0.3736998 , -0.00778542, -0.15213335, -0.25703844,\n",
       "        -0.15900739, -0.34189233, -0.32593006, -0.45044953, -0.0422745 ,\n",
       "        -0.16857068, -0.23560907, -0.15650913, -0.11131474, -0.3801387 ,\n",
       "         0.16300747,  0.11477949, -0.15382864, -0.25882217, -0.3045728 ,\n",
       "        -0.19707856, -0.3722882 , -0.0931868 ,  0.33281583, -0.12079382,\n",
       "        -0.23587741, -0.42374498,  0.12378305, -0.04782157, -0.23234524,\n",
       "        -0.23372056,  0.25001803, -0.47474366,  0.26992983, -0.12480819,\n",
       "        -0.1554788 ,  0.3497841 , -0.04573741, -0.11834502, -0.291867  ,\n",
       "         0.01482224,  0.01319594, -0.29591873, -0.30008593,  0.09794489,\n",
       "        -0.20555273,  0.11544605, -0.40147766, -0.12302302,  0.04943822,\n",
       "        -0.49491885, -0.15041655,  0.05557888, -0.18653424, -0.07438512,\n",
       "         0.7231717 ,  1.126772  ,  0.7946563 ,  0.9976058 ,  0.6612202 ,\n",
       "         0.8142455 ,  0.9310577 ,  0.91023445,  1.0549595 ,  0.7643131 ,\n",
       "         0.9496789 ,  1.0969367 ,  0.88463336,  0.94513315,  0.90179014,\n",
       "         0.992777  ,  0.76836175,  0.7095982 ,  0.66443247,  0.9322461 ,\n",
       "         0.45780203,  0.9002359 ,  0.73415595,  0.94206375,  0.7823406 ,\n",
       "         0.93315977,  0.9121365 ,  0.402584  ,  0.7530724 ,  0.9339894 ,\n",
       "         0.88316447,  1.0112996 ,  0.64196736,  1.1593417 ,  0.62952477,\n",
       "         0.739171  ,  0.9880513 ,  1.0260147 ,  1.0848271 ,  0.9339323 ,\n",
       "         0.89938617,  0.9962837 ,  0.8638517 ,  0.94515294,  1.0397639 ,\n",
       "         0.8469604 ,  0.9694243 ,  1.3328842 ,  0.9657679 ,  0.56053114,\n",
       "         1.1101412 ,  0.6863958 ,  1.1421202 ,  0.887333  ,  0.6012149 ,\n",
       "         1.1697063 ,  0.8242208 ,  0.7884689 ,  0.5386693 ,  0.9914782 ,\n",
       "        -0.32367647,  0.18988511, -0.12463427,  0.15709735,  0.04599793,\n",
       "        -0.20481852,  0.01834699, -0.21388882, -0.13267675,  0.02647136,\n",
       "         0.32148337,  0.04943996,  0.4677603 ,  0.19745022, -0.17263949,\n",
       "        -0.01842597,  0.05836681, -0.18069008,  0.03422961,  0.08608309,\n",
       "         0.14771345,  0.23709714, -0.1819389 ,  0.0186089 , -0.25829357,\n",
       "        -0.2766702 , -0.06792147, -0.09048922, -0.36947164,  0.26330817,\n",
       "        -0.05481336,  0.09027065,  0.13873461,  0.06958478,  0.20327862,\n",
       "         0.0710112 ,  0.19159026, -0.00441303,  0.14930879,  0.38524422,\n",
       "        -0.21178542, -0.21032621,  0.08848265,  0.18786667, -0.06321588,\n",
       "         0.10597228,  0.18976876, -0.12411144, -0.230804  , -0.2510119 ,\n",
       "         0.07673053, -0.20217599,  0.04432765, -0.29083723, -0.01843765,\n",
       "         0.06449606,  0.29057702,  0.2704538 , -0.18227415,  0.14314227,\n",
       "         0.30614445,  0.4002817 , -0.24785931,  0.16857815, -0.18979223,\n",
       "        -0.03435649,  0.03719923,  0.0432241 , -0.09845538, -0.12852162,\n",
       "         0.20343684, -0.14362095, -0.03855257,  0.4116037 ,  0.08948279,\n",
       "         0.12797995,  0.02888102, -0.25829256, -0.0019527 , -0.02180545,\n",
       "         0.11900715,  0.03529987, -0.23525725,  0.0086181 , -0.27621436,\n",
       "         0.06986098,  0.01761342, -0.21220565,  0.27065322,  0.04151477,\n",
       "        -0.20582962,  0.22413416,  0.07556576,  0.07144855, -0.3221923 ,\n",
       "        -0.06049006,  0.29783782, -0.00701972,  0.3910987 ,  0.04673425,\n",
       "        -0.17022373,  0.16516554, -0.31603682, -0.1881672 , -0.01299594,\n",
       "         0.01742213,  0.34424242, -0.17000857,  0.1488776 , -0.0105358 ,\n",
       "         0.13428877,  0.02886711, -0.275381  , -0.23945495,  0.02140366,\n",
       "        -0.09749033, -0.2990215 ,  0.20961668, -0.4228897 , -0.15501024],\n",
       "       dtype=float32)>,\n",
       " <tf.Variable 'lstm_2/lstm_cell_8/kernel:0' shape=(60, 240) dtype=float32, numpy=\n",
       " array([[ 0.03122146,  0.22974962,  0.07044146, ..., -0.4259691 ,\n",
       "         -0.17816411,  0.6644323 ],\n",
       "        [-0.48542365, -0.06880948,  0.32580522, ..., -0.16411868,\n",
       "          0.49701515, -0.3724172 ],\n",
       "        [-0.28499693,  0.0031509 , -0.88930786, ..., -0.23317568,\n",
       "         -0.3070171 ,  0.5044132 ],\n",
       "        ...,\n",
       "        [-0.25358954,  0.45071983,  0.2081257 , ...,  0.10964126,\n",
       "          1.0245754 , -0.2747542 ],\n",
       "        [-0.01800903, -0.3633763 , -0.6827408 , ..., -0.51709235,\n",
       "         -0.7909987 , -0.08063617],\n",
       "        [ 0.43729332,  0.09744384,  0.39902607, ..., -0.0497647 ,\n",
       "          0.50657755, -0.01412077]], dtype=float32)>,\n",
       " <tf.Variable 'lstm_2/lstm_cell_8/recurrent_kernel:0' shape=(60, 240) dtype=float32, numpy=\n",
       " array([[ 0.37095562,  0.20091075,  0.2795133 , ..., -0.00127701,\n",
       "          0.16576827, -0.43497768],\n",
       "        [-0.8441438 , -0.1609022 ,  0.072533  , ..., -0.43026718,\n",
       "         -0.15380724, -0.50292826],\n",
       "        [-0.44457054,  0.44391465, -0.02018351, ...,  0.50346035,\n",
       "         -0.01631624, -0.35585293],\n",
       "        ...,\n",
       "        [-0.88751364, -0.27079806, -0.24596846, ..., -0.04806982,\n",
       "         -0.2842268 ,  0.11191476],\n",
       "        [-0.38123834, -0.28679055, -0.11483059, ...,  0.2918635 ,\n",
       "         -0.2850792 ,  0.04049943],\n",
       "        [ 0.42225337, -0.36102673,  0.23554799, ...,  0.5602891 ,\n",
       "         -0.6242358 ,  0.3667435 ]], dtype=float32)>,\n",
       " <tf.Variable 'lstm_2/lstm_cell_8/bias:0' shape=(240,) dtype=float32, numpy=\n",
       " array([-8.32697153e-01, -8.97785604e-01, -9.05695260e-01, -4.17598158e-01,\n",
       "        -4.49200392e-01, -7.00126529e-01, -8.47338200e-01, -4.78239626e-01,\n",
       "        -7.13653445e-01, -5.75569808e-01, -4.96123046e-01, -3.55471790e-01,\n",
       "        -7.04564393e-01, -9.44823980e-01, -4.09356505e-01, -7.65615404e-01,\n",
       "        -7.32005715e-01, -1.16793680e+00, -6.51834548e-01, -4.34580952e-01,\n",
       "        -1.10379243e+00, -4.15235192e-01, -1.00886381e+00, -8.88030350e-01,\n",
       "        -5.71597815e-01, -3.29233110e-01, -6.79193199e-01, -7.05441892e-01,\n",
       "        -6.79434359e-01, -5.56260109e-01, -7.96272278e-01, -1.68068707e-01,\n",
       "        -3.91486615e-01, -7.04909384e-01, -8.15580785e-01, -6.55544221e-01,\n",
       "        -8.48582387e-01, -5.73286772e-01, -7.90760398e-01, -8.77779961e-01,\n",
       "        -2.75227189e-01, -7.48743832e-01, -6.69105113e-01, -5.66796362e-01,\n",
       "        -9.15076971e-01, -2.96501249e-01, -4.35164362e-01, -8.81353557e-01,\n",
       "        -8.12614441e-01, -6.13207579e-01, -4.87036884e-01, -8.31311464e-01,\n",
       "        -7.10685253e-01, -7.53505051e-01, -6.15488410e-01, -4.00158405e-01,\n",
       "        -9.38585162e-01, -9.30881798e-01, -7.49041975e-01, -8.14140618e-01,\n",
       "         5.21723092e-01,  4.49463546e-01,  1.19850051e+00,  1.22591007e+00,\n",
       "         1.02999210e+00,  1.24623597e+00,  8.53212893e-01,  1.55514145e+00,\n",
       "         5.53954124e-01,  8.01720500e-01,  3.71355951e-01,  9.28693593e-01,\n",
       "         9.03971076e-01,  6.00651920e-01,  1.10830677e+00,  1.15151680e+00,\n",
       "         1.02448821e+00,  4.85105544e-01,  9.78301048e-01,  1.41512859e+00,\n",
       "         6.59368277e-01,  1.43455040e+00,  1.03735733e+00,  6.72514617e-01,\n",
       "         1.06224275e+00,  7.82105565e-01,  9.83462334e-01,  8.33636403e-01,\n",
       "         1.03399158e+00,  6.90510750e-01,  3.81490618e-01,  1.30772579e+00,\n",
       "         1.01712823e+00,  7.18877971e-01,  1.11045194e+00,  8.35125268e-01,\n",
       "         1.03143442e+00,  9.20696080e-01,  1.16539359e+00,  1.42165709e+00,\n",
       "         1.54214871e+00,  1.30014026e+00,  1.14445412e+00,  8.83948445e-01,\n",
       "         1.24066043e+00,  1.29606426e+00,  1.10083342e+00,  1.01300800e+00,\n",
       "         8.71817052e-01,  9.28700268e-01,  6.77300096e-01,  1.13122237e+00,\n",
       "         7.88101912e-01,  1.13224185e+00,  1.04047680e+00,  8.23892415e-01,\n",
       "         1.21871591e+00,  6.45228207e-01,  6.53859854e-01,  9.88352120e-01,\n",
       "        -1.90524116e-01, -7.02225138e-03,  1.35500327e-01, -3.23183179e-01,\n",
       "         1.95357963e-01, -1.12172134e-01, -3.83881658e-01,  2.96693444e-01,\n",
       "        -6.14089258e-02,  9.90520343e-02,  3.24095130e-01,  2.91958004e-01,\n",
       "        -1.76842064e-01,  1.63445100e-01,  1.47017807e-01,  8.94912183e-02,\n",
       "        -5.84749728e-02,  2.82717735e-01,  4.41606976e-02, -1.36329643e-02,\n",
       "        -9.71951559e-02,  4.53259140e-01, -6.43381849e-02, -3.84910971e-01,\n",
       "        -2.22078755e-01,  4.43686582e-02,  5.68662547e-02,  1.10409386e-01,\n",
       "         1.12028852e-01, -1.24866799e-01,  4.82997179e-01, -4.78565469e-02,\n",
       "         1.05260931e-01,  6.78026378e-02, -1.65281475e-01, -1.24365516e-01,\n",
       "         5.99052291e-04,  1.35181425e-02,  4.81302142e-02, -1.29522830e-01,\n",
       "        -2.54744023e-01,  5.71511798e-02,  1.24317147e-01, -1.69490546e-01,\n",
       "         3.20456862e-01, -2.25269143e-02,  9.39450413e-03,  2.16908589e-01,\n",
       "         3.11959177e-01,  3.11363507e-02,  1.48867428e-01, -2.54660845e-01,\n",
       "        -3.92284244e-01,  1.55103311e-01,  6.58410564e-02, -5.69462255e-02,\n",
       "         8.98603201e-02,  2.14385286e-01, -7.67677948e-02, -1.34443983e-01,\n",
       "        -4.76934165e-01, -9.09180522e-01, -8.94648671e-01, -2.23225906e-01,\n",
       "        -9.07322764e-01, -4.50549662e-01, -6.40600979e-01, -6.73964024e-02,\n",
       "        -5.36448896e-01, -8.41240406e-01, -3.10722739e-01, -2.72059858e-01,\n",
       "        -4.52858269e-01, -9.15265560e-01, -3.25271934e-01, -4.38993722e-01,\n",
       "        -6.18702352e-01, -7.65745163e-01, -3.97641808e-01, -3.00080836e-01,\n",
       "        -8.82964849e-01, -4.02081072e-01, -7.92626500e-01, -9.65028048e-01,\n",
       "        -5.68678498e-01, -5.18781722e-01, -2.90700823e-01, -5.76148868e-01,\n",
       "        -5.42488217e-01, -5.77022672e-01, -9.03751135e-01, -6.58681571e-01,\n",
       "        -4.20250148e-01, -5.35619497e-01, -2.20994323e-01, -6.12555206e-01,\n",
       "        -5.87032795e-01, -7.73480833e-01, -5.99046409e-01, -8.28143418e-01,\n",
       "        -7.30984425e-03, -7.13272035e-01, -7.34328687e-01, -4.42417026e-01,\n",
       "        -3.43816191e-01, -3.01277488e-01, -5.10713875e-01, -5.06699502e-01,\n",
       "        -7.72089601e-01, -5.91253757e-01, -4.26226497e-01, -2.95146525e-01,\n",
       "        -8.78779531e-01, -3.54201198e-01, -4.48529392e-01, -4.16806817e-01,\n",
       "        -4.66306597e-01, -5.83459675e-01, -3.66176754e-01, -3.69647831e-01],\n",
       "       dtype=float32)>,\n",
       " <tf.Variable 'dense/kernel:0' shape=(60, 32) dtype=float32, numpy=\n",
       " array([[ 0.18700956, -0.07445719, -0.22259396, ..., -0.24657021,\n",
       "         -0.22844805, -0.07561284],\n",
       "        [ 0.10364238, -0.05473602, -0.10225276, ..., -0.16114876,\n",
       "          0.06293528,  0.32278514],\n",
       "        [ 0.45835212,  0.02138175,  0.04383702, ...,  0.2665775 ,\n",
       "         -0.09695395, -0.21282351],\n",
       "        ...,\n",
       "        [ 0.17720659, -0.24278404, -0.12685335, ..., -0.00639327,\n",
       "          0.14001763,  0.26610136],\n",
       "        [ 0.07976006,  0.04537642, -0.15038782, ..., -0.17231025,\n",
       "         -0.15460892, -0.03430963],\n",
       "        [-0.17520045, -0.45322976, -0.19134462, ...,  0.18283379,\n",
       "          0.00772468, -0.3555228 ]], dtype=float32)>,\n",
       " <tf.Variable 'dense/bias:0' shape=(32,) dtype=float32, numpy=\n",
       " array([ 0.34974614, -0.02447781,  0.10492026,  0.02695716, -0.04694904,\n",
       "        -0.01884976, -0.03108014, -0.1299279 ,  0.04307492,  0.17909339,\n",
       "         0.22742642, -0.32111034, -0.06931474,  0.16846223, -0.14173456,\n",
       "        -0.01170553,  0.04618278, -0.05434678,  0.06336261, -0.12322032,\n",
       "        -0.36773413,  0.06627502, -0.01496198, -0.13809672, -0.18265122,\n",
       "         0.27956545, -0.03182699, -0.00746846, -0.14742155,  0.03332565,\n",
       "         0.00708365, -0.06319278], dtype=float32)>,\n",
       " <tf.Variable 'dense_1/kernel:0' shape=(32, 4) dtype=float32, numpy=\n",
       " array([[-4.14467633e-01,  2.27186576e-01, -3.70445341e-01,\n",
       "          1.41267657e-01],\n",
       "        [-8.40761289e-02, -8.67133290e-02, -1.71640024e-01,\n",
       "         -2.28946339e-02],\n",
       "        [ 5.89933395e-02,  5.19354790e-02,  7.19246939e-02,\n",
       "          4.01236787e-02],\n",
       "        [-2.48111263e-01, -1.99692324e-01, -2.55822659e-01,\n",
       "         -2.54319817e-01],\n",
       "        [ 1.57529995e-01,  1.68349534e-01,  1.27660111e-01,\n",
       "          1.71348095e-01],\n",
       "        [ 2.37928182e-01,  2.06783682e-01, -8.15975964e-02,\n",
       "          2.30046034e-01],\n",
       "        [ 7.90336952e-02,  2.60894690e-02, -5.31478436e-04,\n",
       "          2.59637665e-02],\n",
       "        [ 8.73566493e-02, -1.20794892e-01,  6.47564139e-03,\n",
       "          2.31617745e-02],\n",
       "        [-1.39683232e-01, -1.17721856e-01, -1.72275797e-01,\n",
       "         -1.13445356e-01],\n",
       "        [-1.63006783e-01, -1.58901423e-01, -2.42842659e-02,\n",
       "         -1.16163030e-01],\n",
       "        [ 4.10912223e-02,  1.15722083e-01,  1.55228227e-01,\n",
       "          6.13631047e-02],\n",
       "        [ 4.62154180e-01, -1.19603328e-01,  1.95838913e-01,\n",
       "         -6.79710284e-02],\n",
       "        [ 1.22174181e-01,  1.27822652e-01,  1.47157311e-01,\n",
       "          9.53220055e-02],\n",
       "        [ 1.52586699e-01,  1.80990115e-01,  5.86307533e-02,\n",
       "          1.90883011e-01],\n",
       "        [ 2.76920348e-01,  1.99054688e-01, -4.08845060e-02,\n",
       "         -2.88247783e-03],\n",
       "        [ 5.46947122e-03,  6.26478255e-01, -9.84240994e-02,\n",
       "         -7.74512887e-02],\n",
       "        [-2.62603126e-02,  1.70040637e-01, -2.23583639e-01,\n",
       "          2.89726611e-02],\n",
       "        [ 3.16729210e-02,  8.24184716e-02,  5.23468247e-03,\n",
       "          9.74842999e-03],\n",
       "        [-1.03957448e-02,  3.25112902e-02, -4.16517071e-02,\n",
       "         -2.38554645e-02],\n",
       "        [-5.40919788e-02, -8.86496380e-02, -3.62671614e-02,\n",
       "         -5.28259426e-02],\n",
       "        [ 6.36879683e-01, -2.82715678e-01, -1.74233094e-01,\n",
       "         -3.08212906e-01],\n",
       "        [ 1.24747194e-01,  9.79245007e-02,  7.58636519e-02,\n",
       "          5.61222099e-02],\n",
       "        [ 5.63460365e-02,  3.46724018e-02,  4.25316393e-02,\n",
       "         -3.05160577e-03],\n",
       "        [ 2.98123747e-01,  1.27684653e-01, -1.83224902e-01,\n",
       "          3.62370200e-02],\n",
       "        [ 1.55537605e-01,  3.10029299e-03,  9.88287330e-02,\n",
       "          1.19123280e-01],\n",
       "        [-2.50190824e-01, -2.15027612e-02, -3.76504481e-01,\n",
       "          2.30460405e-01],\n",
       "        [ 1.15559526e-01,  1.47484019e-01,  1.32156357e-01,\n",
       "          1.42132580e-01],\n",
       "        [ 1.59731619e-02,  4.95536886e-02,  8.88154507e-02,\n",
       "          7.27657303e-02],\n",
       "        [-8.96938369e-02, -9.22497809e-02, -3.03713251e-02,\n",
       "         -1.00978173e-01],\n",
       "        [ 6.73714429e-02,  3.61855216e-02,  1.20521165e-01,\n",
       "          3.50679010e-02],\n",
       "        [-1.00722618e-01, -1.36593491e-01, -1.27407998e-01,\n",
       "         -1.88079149e-01],\n",
       "        [-1.13746181e-01, -1.73207700e-01, -4.13732454e-02,\n",
       "         -1.58997029e-02]], dtype=float32)>,\n",
       " <tf.Variable 'dense_1/bias:0' shape=(4,) dtype=float32, numpy=array([-0.7166632 , -0.07040263, -0.18455164,  0.34453106], dtype=float32)>]"
      ]
     },
     "execution_count": 52,
     "metadata": {},
     "output_type": "execute_result"
    }
   ],
   "source": [
    "model.weights"
   ]
  },
  {
   "cell_type": "code",
   "execution_count": null,
   "id": "b4c3138a",
   "metadata": {},
   "outputs": [],
   "source": []
  },
  {
   "cell_type": "code",
   "execution_count": null,
   "id": "289f3aa0",
   "metadata": {},
   "outputs": [],
   "source": []
  },
  {
   "cell_type": "code",
   "execution_count": null,
   "id": "c5918057",
   "metadata": {},
   "outputs": [],
   "source": []
  },
  {
   "cell_type": "code",
   "execution_count": null,
   "id": "9dba6f3b",
   "metadata": {},
   "outputs": [],
   "source": []
  }
 ],
 "metadata": {
  "kernelspec": {
   "display_name": "Python 3 (ipykernel)",
   "language": "python",
   "name": "python3"
  },
  "language_info": {
   "codemirror_mode": {
    "name": "ipython",
    "version": 3
   },
   "file_extension": ".py",
   "mimetype": "text/x-python",
   "name": "python",
   "nbconvert_exporter": "python",
   "pygments_lexer": "ipython3",
   "version": "3.10.6"
  }
 },
 "nbformat": 4,
 "nbformat_minor": 5
}
